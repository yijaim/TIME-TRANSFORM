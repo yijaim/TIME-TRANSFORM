{
 "cells": [
  {
   "cell_type": "code",
   "execution_count": 2,
   "metadata": {},
   "outputs": [
    {
     "name": "stdout",
     "output_type": "stream",
     "text": [
      "['\\ufeffdate', 'machine', 'tool', 'spindle']\n",
      "------------------------------\n",
      "2019/12/30 下午 01:29:55\n",
      "2019/12/30 下午 01:29:56\n",
      "2019/12/30 下午 01:29:58\n",
      "2019/12/30 下午 01:29:59\n",
      "2019/12/30 下午 01:30:00\n",
      "2019/12/30 下午 01:30:01\n",
      "2019/12/30 下午 01:30:03\n",
      "2019/12/30 下午 01:30:04\n",
      "2019/12/30 下午 01:30:05\n",
      "2019/12/30 下午 01:30:06\n",
      "2019/12/30 下午 01:30:07\n",
      "2019/12/30 下午 01:30:09\n",
      "2019/12/30 下午 01:30:10\n",
      "2019/12/30 下午 01:30:11\n",
      "2019/12/30 下午 01:30:12\n",
      "2019/12/30 下午 01:30:13\n",
      "2019/12/30 下午 01:30:15\n",
      "2019/12/30 下午 01:30:16\n",
      "2019/12/30 下午 01:30:17\n",
      "2019/12/30 下午 01:30:18\n",
      "2019/12/30 下午 01:30:20\n",
      "2019/12/30 下午 01:30:21\n",
      "2019/12/30 下午 01:30:22\n",
      "2019/12/30 下午 01:30:23\n",
      "2019/12/30 下午 01:30:24\n"
     ]
    }
   ],
   "source": [
    "import csv\n",
    "\n",
    "with open('SPLOAD.csv') as f:\n",
    "    csv_file = csv.reader(f)  # 這邊將檔名帶入 csc.reader() 如此 csv_file 即為讀取器的實例(instance)\n",
    "    csv_header = next(csv_file)  # 呼叫 csv 讀取器的 next function，那樣會從檔案最開始的地方讀入一行資料\n",
    "    print(csv_header)  # 第一行資料，是這個 csv 檔案的各欄位的標頭\n",
    "    print('-'*30)\n",
    "    for row in csv_file:\n",
    "        print(row[0])"
   ]
  },
  {
   "cell_type": "code",
   "execution_count": 6,
   "metadata": {},
   "outputs": [
    {
     "name": "stdout",
     "output_type": "stream",
     "text": [
      "['\\ufeffdate', 'machine', 'tool', 'spindle']\n",
      "------------------------------\n",
      "2019/12/30  --  下午 == 01:29:55\n",
      "2019/12/30  --  下午 == 01:29:56\n",
      "2019/12/30  --  下午 == 01:29:58\n",
      "2019/12/30  --  下午 == 01:29:59\n",
      "2019/12/30  --  下午 == 01:30:00\n",
      "2019/12/30  --  下午 == 01:30:01\n",
      "2019/12/30  --  下午 == 01:30:03\n",
      "2019/12/30  --  下午 == 01:30:04\n",
      "2019/12/30  --  下午 == 01:30:05\n",
      "2019/12/30  --  下午 == 01:30:06\n",
      "2019/12/30  --  下午 == 01:30:07\n",
      "2019/12/30  --  下午 == 01:30:09\n",
      "2019/12/30  --  下午 == 01:30:10\n",
      "2019/12/30  --  下午 == 01:30:11\n",
      "2019/12/30  --  下午 == 01:30:12\n",
      "2019/12/30  --  下午 == 01:30:13\n",
      "2019/12/30  --  下午 == 01:30:15\n",
      "2019/12/30  --  下午 == 01:30:16\n",
      "2019/12/30  --  下午 == 01:30:17\n",
      "2019/12/30  --  下午 == 01:30:18\n",
      "2019/12/30  --  下午 == 01:30:20\n",
      "2019/12/30  --  下午 == 01:30:21\n",
      "2019/12/30  --  下午 == 01:30:22\n",
      "2019/12/30  --  下午 == 01:30:23\n",
      "2019/12/30  --  下午 == 01:30:24\n"
     ]
    }
   ],
   "source": [
    "import re\n",
    "\n",
    "with open('SPLOAD.csv') as f:\n",
    "    csv_file = csv.reader(f)  # 這邊將檔名帶入 csc.reader() 如此 csv_file 即為讀取器的實例(instance)\n",
    "    csv_header = next(csv_file)  # 呼叫 csv 讀取器的 next function，那樣會從檔案最開始的地方讀入一行資料\n",
    "    print(csv_header)  # 第一行資料，是這個 csv 檔案的各欄位的標頭\n",
    "    print('-'*30)\n",
    "    \n",
    "    regex = re.compile(r'(\\d\\d\\d\\d\\/\\d\\d\\/\\d\\d)\\s([上下]午)\\s(\\d\\d:\\d\\d:\\d\\d)')\n",
    "    for row in csv_file:\n",
    "        # print(row[0])\n",
    "        match = regex.search(row[0])\n",
    "        print(match.group(1), ' -- ', match.group(2), '==', match.group(3))\n",
    "        "
   ]
  },
  {
   "cell_type": "code",
   "execution_count": 20,
   "metadata": {},
   "outputs": [
    {
     "name": "stdout",
     "output_type": "stream",
     "text": [
      "2019-12-30 13:29:55\n",
      "2019-12-30 13:29:56\n",
      "2019-12-30 13:29:58\n",
      "2019-12-30 13:29:59\n",
      "2019-12-30 13:30:00\n",
      "2019-12-30 13:30:01\n",
      "2019-12-30 13:30:03\n",
      "2019-12-30 13:30:04\n",
      "2019-12-30 13:30:05\n",
      "2019-12-30 13:30:06\n",
      "2019-12-30 13:30:07\n",
      "2019-12-30 13:30:09\n",
      "2019-12-30 13:30:10\n",
      "2019-12-30 13:30:11\n",
      "2019-12-30 13:30:12\n",
      "2019-12-30 13:30:13\n",
      "2019-12-30 13:30:15\n",
      "2019-12-30 13:30:16\n",
      "2019-12-30 13:30:17\n",
      "2019-12-30 13:30:18\n",
      "2019-12-30 13:30:20\n",
      "2019-12-30 13:30:21\n",
      "2019-12-30 13:30:22\n",
      "2019-12-30 13:30:23\n",
      "2019-12-30 13:30:24\n"
     ]
    }
   ],
   "source": [
    "import datetime as dt\n",
    "\n",
    "with open('SPLOAD.csv') as f:\n",
    "    csv_file = csv.reader(f)  # 這邊將檔名帶入 csc.reader() 如此 csv_file 即為讀取器的實例(instance)\n",
    "    csv_header = next(csv_file)  # 呼叫 csv 讀取器的 next function，那樣會從檔案最開始的地方讀入一行資料\n",
    "    #print(csv_header)  # 第一行資料，是這個 csv 檔案的各欄位的標頭\n",
    "    #print('-'*30)\n",
    "    \n",
    "    regex = re.compile(r'(\\d\\d\\d\\d\\/\\d\\d\\/\\d\\d)\\s([上下]午)\\s(\\d\\d:\\d\\d:\\d\\d)')\n",
    "    for row in csv_file:\n",
    "        # print(row[0])\n",
    "        match = regex.search(row[0])\n",
    "        dt_string = match.group(1) + ' ' + match.group(3)\n",
    "        time = dt.datetime.strptime(dt_string, \"%Y/%m/%d %H:%M:%S\")\n",
    "        if match.group(2) == '下午':\n",
    "            delta_hours = dt.timedelta(hours=12)\n",
    "            time = time + delta_hours\n",
    "        print(time)\n",
    "        "
   ]
  },
  {
   "cell_type": "code",
   "execution_count": null,
   "metadata": {},
   "outputs": [],
   "source": []
  }
 ],
 "metadata": {
  "kernelspec": {
   "display_name": "Python 3",
   "language": "python",
   "name": "python3"
  },
  "language_info": {
   "codemirror_mode": {
    "name": "ipython",
    "version": 3
   },
   "file_extension": ".py",
   "mimetype": "text/x-python",
   "name": "python",
   "nbconvert_exporter": "python",
   "pygments_lexer": "ipython3",
   "version": "3.8.1"
  }
 },
 "nbformat": 4,
 "nbformat_minor": 4
}
