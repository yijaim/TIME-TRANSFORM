{
 "cells": [
  {
   "cell_type": "code",
   "execution_count": 5,
   "metadata": {},
   "outputs": [],
   "source": [
    "import csv\n",
    "import datetime as dt\n",
    "import re\n",
    "\n",
    "with open('new_file.csv', 'w', encoding='utf-8') as newfile:\n",
    "    wr = csv.writer(newfile, dialect='excel')\n",
    "    wr.writerow(['date', 'machine', 'tool', 'spindle'])\n",
    "\n",
    "with open('SPLOAD.csv', encoding='utf-8') as f:\n",
    "    csv_file = csv.reader(f)  # 這邊將檔名帶入 csc.reader() 如此 csv_file 即為讀取器的實例(instance)\n",
    "    csv_header = next(csv_file)  # 呼叫 csv 讀取器的 next function，那樣會從檔案最開始的地方讀入一行資料\n",
    "    # print(csv_header)  # 第一行資料，是這個 csv 檔案的各欄位的標頭\n",
    "    # print('-'*30)\n",
    "    \n",
    "    regex = re.compile(r'(\\d\\d\\d\\d\\/\\d\\d\\/\\d\\d)\\s([上下]午)\\s(\\d\\d:\\d\\d:\\d\\d)')\n",
    "    for row in csv_file:\n",
    "        # print(row[0])\n",
    "        match = regex.search(row[0])\n",
    "        dt_string = match.group(1) + ' ' + match.group(3)\n",
    "        time = dt.datetime.strptime(dt_string, \"%Y/%m/%d %H:%M:%S\")\n",
    "        if match.group(2) == '下午':\n",
    "            delta_hours = dt.timedelta(hours=12)\n",
    "            time = time + delta_hours\n",
    "        row[0] = time\n",
    "        \n",
    "        with open('new_file.csv', 'a') as newfile:\n",
    "            wr = csv.writer(newfile, dialect='excel')\n",
    "            wr.writerow(row)\n",
    "        \n",
    "        \n",
    "        "
   ]
  },
  {
   "cell_type": "code",
   "execution_count": null,
   "metadata": {},
   "outputs": [],
   "source": []
  }
 ],
 "metadata": {
  "kernelspec": {
   "display_name": "Python 3",
   "language": "python",
   "name": "python3"
  },
  "language_info": {
   "codemirror_mode": {
    "name": "ipython",
    "version": 3
   },
   "file_extension": ".py",
   "mimetype": "text/x-python",
   "name": "python",
   "nbconvert_exporter": "python",
   "pygments_lexer": "ipython3",
   "version": "3.7.1"
  }
 },
 "nbformat": 4,
 "nbformat_minor": 4
}
